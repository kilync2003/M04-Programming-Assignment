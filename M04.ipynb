{
 "cells": [
  {
   "cell_type": "code",
   "execution_count": null,
   "metadata": {},
   "outputs": [],
   "source": [
    "#11.1\n",
    "#zoo file\n",
    "def hours():\n",
    "    print(\"Open 9-5 Daily\")\n",
    "#11.2\n",
    "import zoo as menagerie\n",
    "menagerie.hours()\n",
    "#11.3\n",
    "import hours from zoo\n",
    "hours()\n",
    "#11.4\n",
    "import hours from zoo as info\n",
    "info()"
   ]
  }
 ],
 "metadata": {
  "language_info": {
   "name": "python"
  }
 },
 "nbformat": 4,
 "nbformat_minor": 2
}
